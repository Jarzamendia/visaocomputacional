{
 "cells": [
  {
   "cell_type": "code",
   "execution_count": 262,
   "id": "dd65c5e4",
   "metadata": {},
   "outputs": [],
   "source": [
    "import random\n",
    "import cv2\n",
    "import sys\n",
    "import numpy as np\n",
    "from scipy import ndimage as ndimage\n",
    "from matplotlib import pyplot as plt\n",
    "from matplotlib import gridspec as gridspec"
   ]
  },
  {
   "cell_type": "code",
   "execution_count": 263,
   "id": "43f9691a",
   "metadata": {},
   "outputs": [],
   "source": [
    "img = np.array([[0, 255, 255, 255, 255, 255, 255, 255, 255, 255, 255, 0,],\n",
    "                [255, 0, 255, 255, 255, 255, 255, 255, 255, 255, 0, 255,],\n",
    "                [255, 255, 0, 255, 255, 255, 255, 255, 255, 0, 255, 255,],\n",
    "                [255, 255, 255, 0, 255, 255, 255, 255, 0, 255, 255, 255,],\n",
    "                [255, 255, 255, 255, 0, 255, 255, 0, 255, 255, 255, 255,],\n",
    "                [255, 255, 255, 255, 255, 0, 0, 255, 255, 255, 255, 255,],\n",
    "                [255, 255, 255, 255, 255, 0, 0, 255, 255, 255, 255, 255,],\n",
    "                [255, 255, 255, 255, 0, 255, 255, 0, 255, 255, 255, 255,],\n",
    "                [255, 255, 255, 0, 255, 255, 255, 255, 0, 255, 255, 255,],\n",
    "                [255, 255, 0, 255, 255, 255, 255, 255, 255, 0, 255, 255,],\n",
    "                [255, 0, 255, 255, 255, 255, 255, 255, 255, 255, 0, 255,],\n",
    "                [0, 255, 255, 255, 255, 255, 255, 255, 255, 255, 255, 0,]])"
   ]
  },
  {
   "cell_type": "code",
   "execution_count": 264,
   "id": "1fd0bb1b",
   "metadata": {},
   "outputs": [],
   "source": [
    "def rgb2gray(rgb):\n",
    "\n",
    "    r, g, b = rgb[:,:,0], rgb[:,:,1], rgb[:,:,2]\n",
    "    gray = 0.2989 * r + 0.5870 * g + 0.1140 * b\n",
    "\n",
    "    return gray"
   ]
  },
  {
   "cell_type": "code",
   "execution_count": 265,
   "id": "1b47f75c",
   "metadata": {},
   "outputs": [],
   "source": [
    "#img = cv2.imread(\"images/placa-gov.jpeg\")[:,:,::-1]\n",
    "#gray = rgb2gray(img)\n",
    "\n",
    "#plt.figure(figsize = (10,10))\n",
    "#plt.imshow(gray, cmap='gray')\n",
    "#plt.show() "
   ]
  },
  {
   "cell_type": "code",
   "execution_count": 266,
   "id": "2246a702",
   "metadata": {},
   "outputs": [],
   "source": [
    "Kx = np.array([[-1, 0, 1], [-2, 0, 2], [-1, 0, 1]], np.float32)\n",
    "Ky = np.array([[1, 2, 1], [0, 0, 0], [-1, -2, -1]], np.float32)\n",
    "        \n",
    "Ix = ndimage.filters.convolve(img, Kx)\n",
    "Iy = ndimage.filters.convolve(img, Ky)\n",
    "    \n",
    "G = np.hypot(Ix, Iy)\n",
    "G = G / G.max() * 255\n",
    "\n",
    "theta = np.arctan2(Iy, Ix)\n",
    "\n",
    "sob = np.hypot(G, theta)\n",
    "sob = np.array(sob).tolist()"
   ]
  },
  {
   "cell_type": "code",
   "execution_count": 267,
   "id": "25afdb8d",
   "metadata": {},
   "outputs": [
    {
     "data": {
      "image/png": "[encoded data removed]",
      "text/plain": [
       "<Figure size 432x288 with 1 Axes>"
      ]
     },
     "metadata": {},
     "output_type": "display_data"
    },
    {
     "data": {
      "image/png": "[encoded data removed]",
      "text/plain": [
       "<Figure size 432x288 with 1 Axes>"
      ]
     },
     "metadata": {},
     "output_type": "display_data"
    },
    {
     "data": {
      "image/png": "[encoded data removed]",
      "text/plain": [
       "<Figure size 432x288 with 1 Axes>"
      ]
     },
     "metadata": {},
     "output_type": "display_data"
    },
    {
     "data": {
      "image/png": "[encoded data removed]",
      "text/plain": [
       "<Figure size 432x288 with 1 Axes>"
      ]
     },
     "metadata": {},
     "output_type": "display_data"
    }
   ],
   "source": [
    "plt.imshow(Ix,cmap = 'gray')\n",
    "plt.title('Ix'), plt.xticks([]), plt.yticks([])\n",
    "plt.show()\n",
    "\n",
    "plt.imshow(Iy,cmap = 'gray')\n",
    "plt.title('Iy'), plt.xticks([]), plt.yticks([])\n",
    "plt.show()\n",
    "\n",
    "plt.imshow(img,cmap = 'gray')\n",
    "plt.title('Imagem Original'), plt.xticks([]), plt.yticks([])\n",
    "plt.show()\n",
    "\n",
    "plt.imshow(sob,cmap = 'gray')\n",
    "plt.title('Imagem Filtrada'), plt.xticks([]), plt.yticks([])\n",
    "plt.show()"
   ]
  },
  {
   "cell_type": "code",
   "execution_count": null,
   "id": "21d8b5e5",
   "metadata": {},
   "outputs": [],
   "source": []
  },
  {
   "cell_type": "code",
   "execution_count": null,
   "id": "823328ca",
   "metadata": {},
   "outputs": [],
   "source": []
  },
  {
   "cell_type": "code",
   "execution_count": null,
   "id": "82978b3d",
   "metadata": {},
   "outputs": [],
   "source": []
  },
  {
   "cell_type": "code",
   "execution_count": null,
   "id": "619c3948",
   "metadata": {},
   "outputs": [],
   "source": []
  },
  {
   "cell_type": "code",
   "execution_count": null,
   "id": "3f139659",
   "metadata": {},
   "outputs": [],
   "source": []
  }
 ],
 "metadata": {
  "kernelspec": {
   "display_name": "Python 3",
   "language": "python",
   "name": "python3"
  },
  "language_info": {
   "codemirror_mode": {
    "name": "ipython",
    "version": 3
   },
   "file_extension": ".py",
   "mimetype": "text/x-python",
   "name": "python",
   "nbconvert_exporter": "python",
   "pygments_lexer": "ipython3",
   "version": "3.9.2"
  }
 },
 "nbformat": 4,
 "nbformat_minor": 5
}
