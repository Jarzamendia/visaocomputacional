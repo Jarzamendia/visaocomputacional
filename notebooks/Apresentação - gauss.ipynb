{
 "cells": [
  {
   "cell_type": "code",
   "execution_count": 13,
   "id": "c09ca6eb",
   "metadata": {},
   "outputs": [],
   "source": [
    "import random\n",
    "import cv2\n",
    "import sys\n",
    "import numpy as np\n",
    "from scipy import ndimage as ndimage\n",
    "from matplotlib import pyplot as plt\n",
    "from matplotlib import gridspec as gridspec\n",
    "\n"
   ]
  },
  {
   "cell_type": "code",
   "execution_count": 14,
   "id": "fcbfd596",
   "metadata": {},
   "outputs": [],
   "source": [
    "arr = np.array([[255, 255, 255, 0, 255, 255],\n",
    "                [255, 255, 255, 0, 255, 255],\n",
    "                [255, 255, 255, 0, 255, 255],\n",
    "                [255, 255, 255, 0, 255, 255],\n",
    "                [255, 255, 255, 0, 255, 255],\n",
    "                [255, 255, 255, 0, 255, 255]])"
   ]
  },
  {
   "cell_type": "code",
   "execution_count": 15,
   "id": "e0ed9873",
   "metadata": {},
   "outputs": [],
   "source": [
    "gauss = np.array([[1, 2, 1],\n",
    "                  [2, 4, 2],\n",
    "                  [1, 2, 1]])"
   ]
  },
  {
   "cell_type": "code",
   "execution_count": 21,
   "id": "7fcbeaef",
   "metadata": {},
   "outputs": [
    {
     "data": {
      "image/png": "[encoded data removed]",
      "text/plain": [
       "<Figure size 720x720 with 1 Axes>"
      ]
     },
     "metadata": {
      "needs_background": "light"
     },
     "output_type": "display_data"
    },
    {
     "data": {
      "image/png": "[encoded data removed]",
      "text/plain": [
       "<Figure size 720x720 with 1 Axes>"
      ]
     },
     "metadata": {
      "needs_background": "light"
     },
     "output_type": "display_data"
    }
   ],
   "source": [
    "plt.figure(figsize = (10,10))\n",
    "plt.imshow(gauss, cmap='gray')\n",
    "plt.show()\n",
    "\n",
    "img_filtered = ndimage.filters.convolve(arr, gauss, mode='constant')\n",
    "plt.figure(figsize = (10,10))\n",
    "plt.imshow(img_filtered, cmap='gray')\n",
    "plt.show()"
   ]
  },
  {
   "cell_type": "code",
   "execution_count": null,
   "id": "a027cf14",
   "metadata": {},
   "outputs": [],
   "source": []
  },
  {
   "cell_type": "code",
   "execution_count": null,
   "id": "d8451033",
   "metadata": {},
   "outputs": [],
   "source": []
  },
  {
   "cell_type": "code",
   "execution_count": null,
   "id": "aedd745f",
   "metadata": {},
   "outputs": [],
   "source": []
  },
  {
   "cell_type": "code",
   "execution_count": null,
   "id": "995adf15",
   "metadata": {},
   "outputs": [],
   "source": [
    "dft = cv2.dft(np.float32(gauss), flags = cv2.DFT_COMPLEX_OUTPUT)\n",
    "dft_shift = np.fft.fftshift(dft)\n",
    "magnitude_spectrum = 20*np.log(cv2.magnitude(dft_shift[:,:,0],dft_shift[:,:,1]))\n",
    "sample_angles = np.linspace(0,  2 * np.pi, len(magnitude_spectrum.sum(axis=0))) / np.pi*180\n",
    "\n",
    "fig, axs = plt.subplots(1, sharex=True, sharey=True)\n",
    "plt.figure(figsize = (10,10))\n",
    "axs.plot(sample_angles, magnitude_spectrum.sum(axis=0))\n",
    "plt.show()"
   ]
  },
  {
   "cell_type": "code",
   "execution_count": null,
   "id": "8acf6a81",
   "metadata": {},
   "outputs": [],
   "source": [
    "img_filtered"
   ]
  },
  {
   "cell_type": "code",
   "execution_count": null,
   "id": "46887a5b",
   "metadata": {},
   "outputs": [],
   "source": [
    "import numpy as np\n",
    "import cv2\n",
    "\n",
    "info = np.iinfo(img_filtered.dtype) # Get the information of the incoming image type\n",
    "img_filtered = img_filtered.astype(np.float64) / info.max # normalize the data to 0 - 1\n",
    "img_filtered = 255 * img_filtered # Now scale by 255\n",
    "img = img_filtered.astype(np.uint8)\n",
    "\n",
    "\n",
    "plt.figure(figsize = (10,10))\n",
    "plt.imshow(img, cmap='gray')\n",
    "plt.show()"
   ]
  },
  {
   "cell_type": "code",
   "execution_count": 12,
   "id": "d216f115",
   "metadata": {},
   "outputs": [],
   "source": [
    "def convert(img, target_type_min, target_type_max, target_type):\n",
    "    imin = img.min()\n",
    "    imax = img.max()\n",
    "\n",
    "    a = (target_type_max - target_type_min) / (imax - imin)\n",
    "    b = target_type_max - a * imax\n",
    "    new_img = (a * img + b).astype(target_type)\n",
    "    return new_img"
   ]
  },
  {
   "cell_type": "code",
   "execution_count": 17,
   "id": "e0efad1c",
   "metadata": {},
   "outputs": [],
   "source": [
    "imgu8 = convert(img_filtered, 0, 255, np.uint8)"
   ]
  },
  {
   "cell_type": "code",
   "execution_count": 18,
   "id": "e49a16b2",
   "metadata": {},
   "outputs": [
    {
     "data": {
      "text/plain": [
       "array([[ 76, 153,  76,   0,  76,  76],\n",
       "       [153, 255, 153,  51, 153, 153],\n",
       "       [153, 255, 153,  51, 153, 153],\n",
       "       [153, 255, 153,  51, 153, 153],\n",
       "       [153, 255, 153,  51, 153, 153],\n",
       "       [ 76, 153,  76,   0,  76,  76]], dtype=uint8)"
      ]
     },
     "execution_count": 18,
     "metadata": {},
     "output_type": "execute_result"
    }
   ],
   "source": [
    "imgu8"
   ]
  },
  {
   "cell_type": "code",
   "execution_count": 19,
   "id": "30a1aa25",
   "metadata": {},
   "outputs": [
    {
     "data": {
      "image/png": "[encoded data removed]",
      "text/plain": [
       "<Figure size 720x720 with 1 Axes>"
      ]
     },
     "metadata": {
      "needs_background": "light"
     },
     "output_type": "display_data"
    }
   ],
   "source": [
    "plt.figure(figsize = (10,10))\n",
    "plt.imshow(imgu8, cmap='gray')\n",
    "plt.show()"
   ]
  },
  {
   "cell_type": "code",
   "execution_count": 20,
   "id": "f19064e4",
   "metadata": {},
   "outputs": [
    {
     "data": {
      "text/plain": [
       "255"
      ]
     },
     "execution_count": 20,
     "metadata": {},
     "output_type": "execute_result"
    }
   ],
   "source": [
    "imgu8.max()"
   ]
  },
  {
   "cell_type": "code",
   "execution_count": null,
   "id": "25229382",
   "metadata": {},
   "outputs": [],
   "source": []
  }
 ],
 "metadata": {
  "kernelspec": {
   "display_name": "Python 3",
   "language": "python",
   "name": "python3"
  },
  "language_info": {
   "codemirror_mode": {
    "name": "ipython",
    "version": 3
   },
   "file_extension": ".py",
   "mimetype": "text/x-python",
   "name": "python",
   "nbconvert_exporter": "python",
   "pygments_lexer": "ipython3",
   "version": "3.9.2"
  }
 },
 "nbformat": 4,
 "nbformat_minor": 5
}
