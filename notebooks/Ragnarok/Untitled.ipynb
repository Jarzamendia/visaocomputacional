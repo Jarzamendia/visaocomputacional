{
 "cells": [
  {
   "cell_type": "code",
   "execution_count": 10,
   "id": "4568b606",
   "metadata": {},
   "outputs": [],
   "source": [
    "import os\n",
    "import sys\n",
    "import datetime"
   ]
  },
  {
   "cell_type": "code",
   "execution_count": 24,
   "id": "f65430dc",
   "metadata": {},
   "outputs": [],
   "source": [
    "def getMVP(name, map):\n",
    "    \n",
    "    kill_date = datetime.date.today()\n",
    "    time_change = datetime.timedelta(hours=10)\n",
    "    respawn_date= kill_date + time_change\n",
    "\n",
    "    return name, map, respawn_date.ctime()\n"
   ]
  },
  {
   "cell_type": "code",
   "execution_count": 25,
   "id": "90d88b2e",
   "metadata": {},
   "outputs": [
    {
     "name": "stdout",
     "output_type": "stream",
     "text": [
      "('angeling', 'prt_fild04', 'Mon Jun 14 00:00:00 2021')\n"
     ]
    }
   ],
   "source": [
    "print(getMVP(\"angeling\", \"prt_fild04\"))"
   ]
  },
  {
   "cell_type": "code",
   "execution_count": null,
   "id": "7bd4676f",
   "metadata": {},
   "outputs": [],
   "source": []
  },
  {
   "cell_type": "code",
   "execution_count": null,
   "id": "9de2dfd4",
   "metadata": {},
   "outputs": [],
   "source": []
  },
  {
   "cell_type": "code",
   "execution_count": null,
   "id": "a40660db",
   "metadata": {},
   "outputs": [],
   "source": []
  },
  {
   "cell_type": "code",
   "execution_count": null,
   "id": "818bb9c2",
   "metadata": {},
   "outputs": [],
   "source": []
  },
  {
   "cell_type": "code",
   "execution_count": null,
   "id": "aa92f476",
   "metadata": {},
   "outputs": [],
   "source": []
  }
 ],
 "metadata": {
  "kernelspec": {
   "display_name": "Python 3",
   "language": "python",
   "name": "python3"
  },
  "language_info": {
   "codemirror_mode": {
    "name": "ipython",
    "version": 3
   },
   "file_extension": ".py",
   "mimetype": "text/x-python",
   "name": "python",
   "nbconvert_exporter": "python",
   "pygments_lexer": "ipython3",
   "version": "3.9.2"
  }
 },
 "nbformat": 4,
 "nbformat_minor": 5
}
