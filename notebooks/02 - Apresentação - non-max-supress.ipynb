{
 "cells": [
  {
   "cell_type": "code",
   "execution_count": 1,
   "id": "624bd95b",
   "metadata": {},
   "outputs": [],
   "source": [
    "# Bibliotecas necessarias\n",
    "import cv2\n",
    "import sys\n",
    "import numpy as np\n",
    "from scipy import ndimage as ndimage\n",
    "from matplotlib import pyplot as plt\n",
    "from matplotlib import gridspec as gridspec"
   ]
  },
  {
   "cell_type": "code",
   "execution_count": 2,
   "id": "0407d78a",
   "metadata": {},
   "outputs": [],
   "source": [
    "def sobel_filters(img):\n",
    "    Kx = np.array([[-1, 0, 1], [-2, 0, 2], [-1, 0, 1]], np.float32)\n",
    "    Ky = np.array([[1, 2, 1], [0, 0, 0], [-1, -2, -1]], np.float32)\n",
    "    \n",
    "    Ix = ndimage.filters.convolve(img, Kx)\n",
    "    Iy = ndimage.filters.convolve(img, Ky)\n",
    "    \n",
    "    G = np.hypot(Ix, Iy)\n",
    "    G = G / G.max() * 255\n",
    "    theta = np.arctan2(Iy, Ix)\n",
    "    \n",
    "    return (G, theta)"
   ]
  },
  {
   "cell_type": "code",
   "execution_count": 14,
   "id": "365fb201",
   "metadata": {},
   "outputs": [],
   "source": [
    "def non_max_suppression(img, D):\n",
    "    M, N = img.shape\n",
    "    Z = np.zeros((M,N), dtype=np.int32)\n",
    "    angle = D * 180. / np.pi\n",
    "    angle[angle < 0] += 180\n",
    "   \n",
    "    for i in range(1,M-1):\n",
    "        for j in range(1,N-1):\n",
    "            try:\n",
    "                q = 255\n",
    "                r = 255\n",
    "                \n",
    "               #angle 0\n",
    "                if (0 <= angle[i,j] < 22.5) or (157.5 <= angle[i,j] <= 180):\n",
    "                    q = img[i, j+1]\n",
    "                    r = img[i, j-1]\n",
    "                    print(\"angle 0\")\n",
    "\n",
    "                #angle 45\n",
    "                elif (22.5 <= angle[i,j] < 67.5):\n",
    "                    q = img[i+1, j-1]\n",
    "                    r = img[i-1, j+1]\n",
    "                    print(\"angle 45\")\n",
    "                    \n",
    "                #angle 90\n",
    "                elif (67.5 <= angle[i,j] < 112.5):\n",
    "                    q = img[i+1, j]\n",
    "                    r = img[i-1, j]\n",
    "                    print(\"angle 90\")\n",
    "                    \n",
    "                #angle 135\n",
    "                elif (112.5 <= angle[i,j] < 157.5):\n",
    "                    q = img[i-1, j-1]\n",
    "                    r = img[i+1, j+1]\n",
    "                    print(\"angle 135\")\n",
    "                    \n",
    "                if (img[i,j] >= q) and (img[i,j] >= r):\n",
    "                    Z[i,j] = img[i,j]\n",
    "                else:\n",
    "                    Z[i,j] = 0\n",
    "\n",
    "            except IndexError as e:\n",
    "                pass\n",
    "    \n",
    "    return Z"
   ]
  },
  {
   "cell_type": "code",
   "execution_count": 15,
   "id": "332ecfa8",
   "metadata": {},
   "outputs": [],
   "source": [
    "img = np.array([[0, 255, 255, 255, 255, 255, 255, 255, 255, 255, 255, 0,],\n",
    "                [255, 0, 255, 255, 255, 255, 255, 255, 255, 255, 0, 255,],\n",
    "                [255, 255, 0, 255, 255, 255, 255, 255, 255, 0, 255, 255,],\n",
    "                [255, 255, 255, 0, 255, 255, 255, 255, 0, 255, 255, 255,],\n",
    "                [255, 255, 255, 255, 0, 255, 255, 0, 255, 255, 255, 255,],\n",
    "                [255, 255, 255, 255, 255, 0, 0, 255, 255, 255, 255, 255,],\n",
    "                [255, 255, 255, 255, 255, 0, 0, 255, 255, 255, 255, 255,],\n",
    "                [255, 255, 255, 255, 0, 255, 255, 0, 255, 255, 255, 255,],\n",
    "                [255, 255, 255, 0, 255, 255, 255, 255, 0, 255, 255, 255,],\n",
    "                [255, 255, 0, 255, 255, 255, 255, 255, 255, 0, 255, 255,],\n",
    "                [255, 0, 255, 255, 255, 255, 255, 255, 255, 255, 0, 255,],\n",
    "                [0, 255, 255, 255, 255, 255, 255, 255, 255, 255, 255, 0,]])"
   ]
  },
  {
   "cell_type": "code",
   "execution_count": 16,
   "id": "f51d2ca9",
   "metadata": {},
   "outputs": [],
   "source": [
    "g, theta = sobel_filters(img)\n",
    "sob = np.hypot(g, theta)\n",
    "sob = np.array(sob).tolist()"
   ]
  },
  {
   "cell_type": "code",
   "execution_count": 17,
   "id": "fe5b6bab",
   "metadata": {},
   "outputs": [
    {
     "name": "stdout",
     "output_type": "stream",
     "text": [
      "angle 0\n",
      "angle 45\n",
      "angle 45\n",
      "angle 0\n",
      "angle 0\n",
      "angle 0\n",
      "angle 0\n",
      "angle 135\n",
      "angle 135\n",
      "angle 0\n",
      "angle 45\n",
      "angle 0\n",
      "angle 45\n",
      "angle 45\n",
      "angle 0\n",
      "angle 0\n",
      "angle 135\n",
      "angle 135\n",
      "angle 0\n",
      "angle 135\n",
      "angle 45\n",
      "angle 45\n",
      "angle 0\n",
      "angle 45\n",
      "angle 45\n",
      "angle 135\n",
      "angle 135\n",
      "angle 0\n",
      "angle 135\n",
      "angle 135\n",
      "angle 0\n",
      "angle 45\n",
      "angle 45\n",
      "angle 0\n",
      "angle 90\n",
      "angle 90\n",
      "angle 0\n",
      "angle 135\n",
      "angle 135\n",
      "angle 0\n",
      "angle 0\n",
      "angle 0\n",
      "angle 45\n",
      "angle 0\n",
      "angle 135\n",
      "angle 45\n",
      "angle 0\n",
      "angle 135\n",
      "angle 0\n",
      "angle 0\n",
      "angle 0\n",
      "angle 0\n",
      "angle 135\n",
      "angle 0\n",
      "angle 45\n",
      "angle 135\n",
      "angle 0\n",
      "angle 45\n",
      "angle 0\n",
      "angle 0\n",
      "angle 0\n",
      "angle 135\n",
      "angle 135\n",
      "angle 0\n",
      "angle 90\n",
      "angle 90\n",
      "angle 0\n",
      "angle 45\n",
      "angle 45\n",
      "angle 0\n",
      "angle 135\n",
      "angle 135\n",
      "angle 0\n",
      "angle 135\n",
      "angle 135\n",
      "angle 45\n",
      "angle 45\n",
      "angle 0\n",
      "angle 45\n",
      "angle 45\n",
      "angle 135\n",
      "angle 0\n",
      "angle 135\n",
      "angle 135\n",
      "angle 0\n",
      "angle 0\n",
      "angle 45\n",
      "angle 45\n",
      "angle 0\n",
      "angle 45\n",
      "angle 0\n",
      "angle 135\n",
      "angle 135\n",
      "angle 0\n",
      "angle 0\n",
      "angle 0\n",
      "angle 0\n",
      "angle 45\n",
      "angle 45\n",
      "angle 0\n"
     ]
    }
   ],
   "source": [
    "nms = non_max_suppression(g, theta)"
   ]
  },
  {
   "cell_type": "code",
   "execution_count": 12,
   "id": "f45106cb",
   "metadata": {},
   "outputs": [
    {
     "data": {
      "image/png": "[encoded data removed]",
      "text/plain": [
       "<Figure size 432x288 with 1 Axes>"
      ]
     },
     "metadata": {},
     "output_type": "display_data"
    },
    {
     "data": {
      "image/png": "[encoded data removed]",
      "text/plain": [
       "<Figure size 432x288 with 1 Axes>"
      ]
     },
     "metadata": {},
     "output_type": "display_data"
    },
    {
     "data": {
      "image/png": "[encoded data removed]",
      "text/plain": [
       "<Figure size 432x288 with 1 Axes>"
      ]
     },
     "metadata": {},
     "output_type": "display_data"
    }
   ],
   "source": [
    "plt.imshow(img, cmap = 'gray')\n",
    "plt.title('img'), plt.xticks([]), plt.yticks([])\n",
    "plt.show() \n",
    "\n",
    "plt.imshow(sob, cmap = 'gray')\n",
    "plt.title('img'), plt.xticks([]), plt.yticks([])\n",
    "plt.show() \n",
    "\n",
    "plt.imshow(nms, cmap = 'gray')\n",
    "plt.title('nms'), plt.xticks([]), plt.yticks([])\n",
    "plt.show() "
   ]
  },
  {
   "cell_type": "code",
   "execution_count": 19,
   "id": "320a5bcf",
   "metadata": {},
   "outputs": [],
   "source": [
    "angle = theta * 180. / np.pi\n",
    "angle[angle < 0] += 180"
   ]
  },
  {
   "cell_type": "code",
   "execution_count": 20,
   "id": "9f2ba388",
   "metadata": {},
   "outputs": [
    {
     "data": {
      "text/plain": [
       "array([[135.        ,  18.43494882,  45.        ,   0.        ,\n",
       "          0.        ,   0.        ,   0.        ,   0.        ,\n",
       "          0.        , 135.        , 161.56505118,  45.        ],\n",
       "       [ 71.56505118,   0.        ,  45.        ,  45.        ,\n",
       "          0.        ,   0.        ,   0.        ,   0.        ,\n",
       "        135.        , 135.        ,   0.        , 108.43494882],\n",
       "       [ 45.        ,  45.        ,   0.        ,  45.        ,\n",
       "         45.        ,   0.        ,   0.        , 135.        ,\n",
       "        135.        ,   0.        , 135.        , 135.        ],\n",
       "       [  0.        ,  45.        ,  45.        ,   0.        ,\n",
       "         45.        ,  45.        , 135.        , 135.        ,\n",
       "          0.        , 135.        , 135.        ,   0.        ],\n",
       "       [  0.        ,   0.        ,  45.        ,  45.        ,\n",
       "          0.        ,  71.56505118, 108.43494882,   0.        ,\n",
       "        135.        , 135.        ,   0.        ,   0.        ],\n",
       "       [  0.        ,   0.        ,   0.        ,  45.        ,\n",
       "         18.43494882, 135.        ,  45.        , 161.56505118,\n",
       "        135.        ,   0.        ,   0.        ,   0.        ],\n",
       "       [  0.        ,   0.        ,   0.        , 135.        ,\n",
       "        161.56505118,  45.        , 135.        ,  18.43494882,\n",
       "         45.        ,   0.        ,   0.        ,   0.        ],\n",
       "       [  0.        ,   0.        , 135.        , 135.        ,\n",
       "          0.        , 108.43494882,  71.56505118,   0.        ,\n",
       "         45.        ,  45.        ,   0.        ,   0.        ],\n",
       "       [  0.        , 135.        , 135.        ,   0.        ,\n",
       "        135.        , 135.        ,  45.        ,  45.        ,\n",
       "          0.        ,  45.        ,  45.        ,   0.        ],\n",
       "       [135.        , 135.        ,   0.        , 135.        ,\n",
       "        135.        ,   0.        ,   0.        ,  45.        ,\n",
       "         45.        ,   0.        ,  45.        ,  45.        ],\n",
       "       [108.43494882,   0.        , 135.        , 135.        ,\n",
       "          0.        ,   0.        ,   0.        ,   0.        ,\n",
       "         45.        ,  45.        ,   0.        ,  71.56505118],\n",
       "       [ 45.        , 161.56505118, 135.        ,   0.        ,\n",
       "          0.        ,   0.        ,   0.        ,   0.        ,\n",
       "          0.        ,  45.        ,  18.43494882, 135.        ]])"
      ]
     },
     "execution_count": 20,
     "metadata": {},
     "output_type": "execute_result"
    }
   ],
   "source": [
    "angle"
   ]
  },
  {
   "cell_type": "code",
   "execution_count": null,
   "id": "2634b399",
   "metadata": {},
   "outputs": [],
   "source": []
  }
 ],
 "metadata": {
  "kernelspec": {
   "display_name": "Python 3",
   "language": "python",
   "name": "python3"
  },
  "language_info": {
   "codemirror_mode": {
    "name": "ipython",
    "version": 3
   },
   "file_extension": ".py",
   "mimetype": "text/x-python",
   "name": "python",
   "nbconvert_exporter": "python",
   "pygments_lexer": "ipython3",
   "version": "3.9.5"
  }
 },
 "nbformat": 4,
 "nbformat_minor": 5
}
